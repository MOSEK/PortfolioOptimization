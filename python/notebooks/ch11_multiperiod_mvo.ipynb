{
 "cells": [
  {
   "cell_type": "markdown",
   "metadata": {},
   "source": [
    "LaTeX macros (hidden cell)\n",
    "$\n",
    "\\newcommand{\\Q}{\\mathcal{Q}}\n",
    "\\newcommand{\\ECov}{\\boldsymbol{\\Sigma}}\n",
    "\\newcommand{\\EMean}{\\boldsymbol{\\mu}}\n",
    "\\newcommand{\\EAlpha}{\\boldsymbol{\\alpha}}\n",
    "\\newcommand{\\EBeta}{\\boldsymbol{\\beta}}\n",
    "$"
   ]
  },
  {
   "cell_type": "markdown",
   "metadata": {},
   "source": [
    "# Imports and configuration"
   ]
  },
  {
   "cell_type": "code",
   "execution_count": 78,
   "metadata": {
    "scrolled": false
   },
   "outputs": [],
   "source": [
    "import sys\n",
    "import os\n",
    "import re\n",
    "import datetime as dt\n",
    "\n",
    "import numpy as np\n",
    "import pandas as pd\n",
    "import statsmodels.api as sm\n",
    "%matplotlib inline\n",
    "import matplotlib\n",
    "import matplotlib.pyplot as plt\n",
    "from matplotlib.colors import LinearSegmentedColormap\n",
    "\n",
    "from mosek.fusion import *\n",
    "\n",
    "from notebook.services.config import ConfigManager\n",
    "\n",
    "from portfolio_tools import data_download, DataReader, compute_inputs"
   ]
  },
  {
   "cell_type": "code",
   "execution_count": 79,
   "metadata": {},
   "outputs": [
    {
     "name": "stdout",
     "output_type": "stream",
     "text": [
      "3.9.7 (default, Sep 16 2021, 13:09:58) \n",
      "[GCC 7.5.0]\n",
      "matplotlib: 3.4.3\n"
     ]
    }
   ],
   "source": [
    "# Version checks\n",
    "print(sys.version)\n",
    "print('matplotlib: {}'.format(matplotlib.__version__))\n",
    "\n",
    "# Jupyter configuration\n",
    "c = ConfigManager()\n",
    "c.update('notebook', {\"CodeCell\": {\"cm_config\": {\"autoCloseBrackets\": False}}})  \n",
    "\n",
    "# Numpy options\n",
    "np.set_printoptions(precision=5, linewidth=120, suppress=True)\n",
    "\n",
    "# Pandas options\n",
    "pd.set_option('display.max_rows', None)\n",
    "\n",
    "# Matplotlib options\n",
    "plt.rcParams['figure.figsize'] = [12, 8]\n",
    "plt.rcParams['figure.dpi'] = 200"
   ]
  },
  {
   "cell_type": "markdown",
   "metadata": {},
   "source": [
    "# Prepare input data"
   ]
  },
  {
   "cell_type": "markdown",
   "metadata": {},
   "source": [
    "Here we load the raw data that will be used to compute the optimization input variables, the vector $\\EMean_t$ of expected returns and the covariance matrix $\\ECov_t$ for all periods $t = 1, \\dots, T$. The data consists of daily stock prices of $8$ stocks from the US market. "
   ]
  },
  {
   "cell_type": "markdown",
   "metadata": {},
   "source": [
    "## Download data"
   ]
  },
  {
   "cell_type": "code",
   "execution_count": 80,
   "metadata": {},
   "outputs": [],
   "source": [
    "# Data downloading:\n",
    "# If the user has an API key for alphavantage.co, then this code part will download the data. \n",
    "# The code can be modified to download from other sources. To be able to run the examples, \n",
    "# and reproduce results in the cookbook, the files have to have the following format and content:\n",
    "# - File name pattern: \"daily_adjusted_[TICKER].csv\", where TICKER is the symbol of a stock. \n",
    "# - The file contains at least columns \"timestamp\", \"adjusted_close\", and \"volume\".\n",
    "# - The data is daily price/volume, covering at least the period from 2016-03-18 until 2021-03-18, \n",
    "# - Files are for the stocks PM, LMT, MCD, MMM, AAPL, MSFT, TXN, CSCO.\n",
    "list_stocks = [\"PM\", \"LMT\", \"MCD\", \"MMM\", \"AAPL\", \"MSFT\", \"TXN\", \"CSCO\"]\n",
    "list_factors = []\n",
    "alphaToken = None\n",
    " \n",
    "list_tickers = list_stocks + list_factors\n",
    "if alphaToken is not None:\n",
    "    data_download(list_tickers, alphaToken)  "
   ]
  },
  {
   "cell_type": "markdown",
   "metadata": {},
   "source": [
    "## Read data"
   ]
  },
  {
   "cell_type": "markdown",
   "metadata": {},
   "source": [
    "We load the daily stock price data from the downloaded CSV files. The data is adjusted for splits and dividends. Then a selected time period is taken from the data."
   ]
  },
  {
   "cell_type": "code",
   "execution_count": 81,
   "metadata": {},
   "outputs": [],
   "source": [
    "investment_start = \"2016-03-18\"\n",
    "investment_end = \"2021-03-18\""
   ]
  },
  {
   "cell_type": "code",
   "execution_count": 82,
   "metadata": {
    "scrolled": false
   },
   "outputs": [
    {
     "name": "stdout",
     "output_type": "stream",
     "text": [
      "Found data files: \n",
      "stock_data/daily_adjusted_AAPL.csv\n",
      "stock_data/daily_adjusted_PM.csv\n",
      "stock_data/daily_adjusted_CSCO.csv\n",
      "stock_data/daily_adjusted_TXN.csv\n",
      "stock_data/daily_adjusted_MMM.csv\n",
      "stock_data/daily_adjusted_IWM.csv\n",
      "stock_data/daily_adjusted_MCD.csv\n",
      "stock_data/daily_adjusted_SPY.csv\n",
      "stock_data/daily_adjusted_MSFT.csv\n",
      "stock_data/daily_adjusted_LMT.csv\n",
      "\n",
      "Using data files: \n",
      "stock_data/daily_adjusted_PM.csv\n",
      "stock_data/daily_adjusted_LMT.csv\n",
      "stock_data/daily_adjusted_MCD.csv\n",
      "stock_data/daily_adjusted_MMM.csv\n",
      "stock_data/daily_adjusted_AAPL.csv\n",
      "stock_data/daily_adjusted_MSFT.csv\n",
      "stock_data/daily_adjusted_TXN.csv\n",
      "stock_data/daily_adjusted_CSCO.csv\n",
      "\n"
     ]
    }
   ],
   "source": [
    "# The files are in \"stock_data\" folder, named as \"daily_adjusted_[TICKER].csv\"\n",
    "dr = DataReader(folder_path=\"stock_data\", symbol_list=list_tickers)\n",
    "dr.read_data(read_volume=True)\n",
    "df_prices, df_volumes = dr.get_period(start_date=investment_start, end_date=investment_end)"
   ]
  },
  {
   "cell_type": "markdown",
   "metadata": {},
   "source": [
    "# Run the optimization"
   ]
  },
  {
   "cell_type": "markdown",
   "metadata": {},
   "source": [
    "## Define the optimization model"
   ]
  },
  {
   "cell_type": "markdown",
   "metadata": {},
   "source": [
    "We will solve the following multiperiod optimization problem:\n",
    "\n",
    "$$\n",
    "    \\begin{array}{lrcl}\n",
    "    \\mbox{maximize}     & \\sum_{t=1}^T\\EMean_t^\\mathsf{T}\\mathbf{x}_t - \\delta_t \\mathbf{x}_t^\\mathsf{T}\\ECov_t\\mathbf{x}_t - \\left(\\sum_{i=1}^N a_{t,i}|x_{t,i}-x_{t-1,i}| + \\tilde{b}_{t,i}|x_{t,i}-x_{t-1,i}|^{3/2}\\right)      &          &\\\\\n",
    "    \\mbox{subject to}   & \\mathbf{1}^\\mathsf{T}\\mathbf{x}_t              & =        & 1,\\\\\n",
    "                        & \\mathbf{x}_t                                   & \\geq     & 0.\\\\\n",
    "    \\end{array}\n",
    "$$\n",
    "\n",
    "The first term is the portfolio return in period $i$, the second term is the portfolio risk in period $i$, and the third term is a transaction cost term for period $i$. The $a_{t,i}$ are the coefficients of the linear cost term, and the $\\tilde{b}_{t,i}$ are the coefficients of the market impact cost term: $\\tilde{b}_{t,i} = b_{t,i}\\sigma_{t,i}/\\left(\\frac{q_{t,i}}{V_t}\\right)^{1/2}$, where $b_{t,i} = 1$, $\\sigma_{t,i}$ is the volatility of security $i$ in period $t$, and $\\frac{q_{t,i}}{V_t}$ is the portfolio value normalized dollar volume of security $i$ in period $t$. The total objective is the sum of these terms for all periods. \n",
    "\n",
    "Then we rewrite the above problem into conic form, and implement it in Fusion API:\n",
    "\n",
    "$$\n",
    "    \\begin{array}{lrcl}\n",
    "    \\mbox{maximize}     & \\sum_{t=1}^T\\EMean_t^\\mathsf{T}\\mathbf{x}_t - \\delta_t s_{t} - \\left(\\sum_{i=1}^N a_{t,i}v_{t,i} + \\tilde{b}_{t,i}w_{t,i}\\right)      &          &\\\\\n",
    "    \\mbox{subject to}   & (s_{t}, 0.5, \\mathbf{G}_{t}^\\mathsf{T}\\mathbf{x}_t) & \\in      & \\Q_\\mathrm{r}^{N+2},\\quad t = 1,\\dots,T\\\\\n",
    "                        & |x_{t}-x_{t-1}|                            & \\leq     & v_{t},\\quad t = 1,\\dots,T\\\\\n",
    "                        & (w_{t,i}, 1, x_{t,i}-x_{t-1,i})                & \\in      & \\mathcal{P}_3^{2/3,1/3},\\quad t = 1,\\dots,T,\\ i = 1,\\dots,N\\\\\n",
    "                        & \\mathbf{1}^\\mathsf{T}\\mathbf{x}_t              & =        & 1,\\\\\n",
    "                        & \\mathbf{x}_t                                   & \\geq     & 0.\\\\\n",
    "    \\end{array}\n",
    "$$\n",
    "\n",
    "We create it inside a function so we can call it later."
   ]
  },
  {
   "cell_type": "code",
   "execution_count": 83,
   "metadata": {},
   "outputs": [],
   "source": [
    "def absval(M, x, z):\n",
    "    M.constraint(Expr.sub(z, x), Domain.greaterThan(0.0))\n",
    "    M.constraint(Expr.add(z, x), Domain.greaterThan(0.0))\n",
    "    \n",
    "def norm1(M, x, t):\n",
    "    z = M.variable(x.getSize(), Domain.greaterThan(0.0))\n",
    "    absval(M, x, z)\n",
    "    M.constraint(Expr.sub(Expr.sum(z), t), Domain.equalsTo(0.0))\n",
    "\n",
    "def multiperiod_mvo(N, T, m, G, x_0, delta, a, b):\n",
    "    \n",
    "    with Model(\"multiperiod\") as M:\n",
    "        # Settings\n",
    "        M.setLogHandler(sys.stdout)\n",
    "        \n",
    "        # Variable\n",
    "        x = M.variable(\"x\", [N, T], Domain.greaterThan(0.0))\n",
    "        s = M.variable(\"s\", T)\n",
    "        v = M.variable(\"v\", [N, T])\n",
    "        w = M.variable(\"w\", [N, T])\n",
    "        \n",
    "        # Constraint\n",
    "        M.constraint(\"budget\", Expr.sum(x, 0), Domain.equalsTo(np.ones(T)))\n",
    "\n",
    "        # Objective\n",
    "        obj_terms = []\n",
    "        for t in range(T):\n",
    "            xt = x.pick([[i, t] for i in range(N)])\n",
    "            term_t = Expr.add(\n",
    "                [\n",
    "                    Expr.dot(m[t], xt), \n",
    "                    Expr.mul(-delta[t], s.index(t)), \n",
    "                    Expr.add([Expr.mul(-a[i,t], v.index(i,t)) for i in range(N)]),\n",
    "                    Expr.add([Expr.mul(-b[i,t], w.index(i,t)) for i in range(N)]),\n",
    "                ]\n",
    "            ) \n",
    "            obj_terms.append(term_t)\n",
    "        M.objective(\"obj\", ObjectiveSense.Maximize, Expr.add(obj_terms))\n",
    "        \n",
    "        # Objective cones\n",
    "        for t in range(T):\n",
    "            xt = x.pick([[i, t] for i in range(N)])\n",
    "            vt = v.pick([[i, t] for i in range(N)])\n",
    "            wt = w.pick([[i, t] for i in range(N)])\n",
    "            xtprev = x_0 if t == 0 else x.pick([[i, t - 1] for i in range(N)])\n",
    "            xtdiff = Expr.sub(xt, xtprev)\n",
    "            M.constraint(f'risk_{t}', Expr.vstack(s.index(t), 0.5, Expr.mul(G[t].T, xt)), Domain.inRotatedQCone())\n",
    "            absval(M, xtdiff, vt)\n",
    "            M.constraint(f'market_impact_{t}', Expr.hstack(wt, Expr.constTerm(N, 1.0), xtdiff), Domain.inPPowerCone(2 / 3))\n",
    "        \n",
    "        # Solve the problem\n",
    "        M.solve()\n",
    "        \n",
    "        # Check if the solution is an optimal point\n",
    "        solsta = M.getPrimalSolutionStatus()\n",
    "        if (solsta != SolutionStatus.Optimal):\n",
    "            # See https://docs.mosek.com/latest/pythonfusion/accessing-solution.html about handling solution statuses.\n",
    "            raise Exception(\"Unexpected solution status!\")\n",
    "        \n",
    "        # Get the solution values\n",
    "        x_value = x.level().reshape(N, T)\n",
    "        \n",
    "        return x_value"
   ]
  },
  {
   "cell_type": "markdown",
   "metadata": {},
   "source": [
    "## Compute optimization input variables"
   ]
  },
  {
   "cell_type": "code",
   "execution_count": 84,
   "metadata": {},
   "outputs": [],
   "source": [
    "# Number of securities\n",
    "N = df_prices.shape[1]\n",
    "\n",
    "# Number of periods\n",
    "T = 10\n",
    "\n",
    "# Initial weights\n",
    "x_0 = np.array([1] * N) / N\n",
    "portfolio_value = 10**8"
   ]
  },
  {
   "cell_type": "markdown",
   "metadata": {},
   "source": [
    "Here we use the loaded daily price data to compute an estimate of the yearly mean return and covariance matrix for each trading period. These are \"dummy\" estimates, created from one sample mean and sample covariance based on the data."
   ]
  },
  {
   "cell_type": "code",
   "execution_count": 85,
   "metadata": {},
   "outputs": [],
   "source": [
    "def symmat(m):\n",
    "    return (m + m.T) / 2\n",
    "\n",
    "def makepsd(m):\n",
    "    mineig = np.min(np.linalg.eigvals(m))\n",
    "    if mineig < 0:\n",
    "        m = m - (mineig - 0.0001) * np.identity(m.shape[0])\n",
    "    return m\n",
    "\n",
    "mu, Sigma = compute_inputs(df_prices)\n",
    "m = [mu + np.random.normal(0, mu/10) for i in range(T)]\n",
    "S = [makepsd(Sigma + symmat(np.random.normal(0, Sigma/10))) for i in range(T)]"
   ]
  },
  {
   "cell_type": "markdown",
   "metadata": {},
   "source": [
    "Next we compute the matrix $G$ such that $\\ECov=GG^\\mathsf{T}$ for all periods. This is the input of the conic form of the optimization problem. Here we use Cholesky factorization."
   ]
  },
  {
   "cell_type": "code",
   "execution_count": 86,
   "metadata": {
    "scrolled": true
   },
   "outputs": [],
   "source": [
    "G = [np.linalg.cholesky(s) for s in S] "
   ]
  },
  {
   "cell_type": "markdown",
   "metadata": {},
   "source": [
    "We also compute the average daily volume and daily volatility (std. dev.) for all periods. These are also dummy values."
   ]
  },
  {
   "cell_type": "code",
   "execution_count": 87,
   "metadata": {},
   "outputs": [],
   "source": [
    "df_lin_returns = df_prices.pct_change()\n",
    "volatility = df_lin_returns.std()\n",
    "volume = (df_volumes * df_prices).mean()\n",
    "vty = [abs(volatility + np.random.normal(0, volatility/10)) for i in range(T)]\n",
    "vol = [abs(volume + np.random.normal(0, volume/10)) for i in range(T)]"
   ]
  },
  {
   "cell_type": "markdown",
   "metadata": {},
   "source": [
    "Here we specify the transaction cost parameters for each period."
   ]
  },
  {
   "cell_type": "code",
   "execution_count": 88,
   "metadata": {
    "scrolled": false
   },
   "outputs": [],
   "source": [
    "# Transaction cost\n",
    "a = 0.05 * np.ones((N, T))\n",
    "\n",
    "# Market impact\n",
    "beta = 3 / 2\n",
    "b = 1\n",
    "rel_volume = [v / portfolio_value for v in vol] # Relative volume (the variable x is also portfolio relative).\n",
    "impact_coef = np.vstack([(b * v / r**(beta - 1)).to_numpy() for v, r in zip(vty, rel_volume)]).T\n",
    "\n",
    "# Holding cost\n",
    "s = 0.01"
   ]
  },
  {
   "cell_type": "markdown",
   "metadata": {},
   "source": [
    "## Call the optimizer function"
   ]
  },
  {
   "cell_type": "markdown",
   "metadata": {},
   "source": [
    "We run the optimization with the risk aversion parameter $\\delta = 1$ for each period. "
   ]
  },
  {
   "cell_type": "code",
   "execution_count": 89,
   "metadata": {},
   "outputs": [
    {
     "name": "stdout",
     "output_type": "stream",
     "text": [
      "Problem\n",
      "  Name                   : multiperiod     \n",
      "  Objective sense        : maximize        \n",
      "  Type                   : CONIC (conic optimization problem)\n",
      "  Constraints            : 85              \n",
      "  Affine conic cons.     : 45              \n",
      "  Disjunctive cons.      : 0               \n",
      "  Cones                  : 0               \n",
      "  Scalar variables       : 126             \n",
      "  Matrix variables       : 0               \n",
      "  Integer variables      : 0               \n",
      "\n",
      "Optimizer started.\n",
      "Presolve started.\n",
      "Linear dependency checker started.\n",
      "Linear dependency checker terminated.\n",
      "Eliminator started.\n",
      "Freed constraints in eliminator : 40\n",
      "Eliminator terminated.\n",
      "Eliminator - tries                  : 1                 time                   : 0.00            \n",
      "Lin. dep.  - tries                  : 1                 time                   : 0.00            \n",
      "Lin. dep.  - number                 : 0               \n",
      "Presolve terminated. Time: 0.00    \n",
      "Problem\n",
      "  Name                   : multiperiod     \n",
      "  Objective sense        : maximize        \n",
      "  Type                   : CONIC (conic optimization problem)\n",
      "  Constraints            : 85              \n",
      "  Affine conic cons.     : 45              \n",
      "  Disjunctive cons.      : 0               \n",
      "  Cones                  : 0               \n",
      "  Scalar variables       : 126             \n",
      "  Matrix variables       : 0               \n",
      "  Integer variables      : 0               \n",
      "\n",
      "Optimizer  - threads                : 64              \n",
      "Optimizer  - solved problem         : the dual        \n",
      "Optimizer  - Constraints            : 40\n",
      "Optimizer  - Cones                  : 46\n",
      "Optimizer  - Scalar variables       : 256               conic                  : 176             \n",
      "Optimizer  - Semi-definite variables: 0                 scalarized             : 0               \n",
      "Factor     - setup time             : 0.00              dense det. time        : 0.00            \n",
      "Factor     - ML order time          : 0.00              GP order time          : 0.00            \n",
      "Factor     - nonzeros before factor : 820               after factor           : 820             \n",
      "Factor     - dense dim.             : 0                 flops                  : 2.61e+04        \n",
      "ITE PFEAS    DFEAS    GFEAS    PRSTATUS   POBJ              DOBJ              MU       TIME  \n",
      "0   1.0e+00  9.3e+00  5.4e+01  0.00e+00   -3.589530510e+01  1.711377413e+01   1.0e+00  0.00  \n",
      "1   4.7e-01  4.4e+00  3.0e+01  -7.61e-01  -7.111662437e+00  3.456316903e+01   4.7e-01  0.01  \n",
      "2   3.6e-01  3.3e+00  3.7e+00  1.71e+00   -1.185848582e+01  5.745668134e+00   3.6e-01  0.01  \n",
      "3   9.8e-02  9.1e-01  6.9e-01  1.14e+00   -3.447831043e+00  4.371922627e-01   9.8e-02  0.01  \n",
      "4   3.0e-02  2.8e-01  1.1e-01  1.44e+00   -1.638823458e+00  -7.377576628e-01  3.0e-02  0.01  \n",
      "5   1.5e-02  1.4e-01  3.9e-02  1.70e+00   -1.314224540e+00  -9.514074422e-01  1.5e-02  0.01  \n",
      "6   3.1e-03  2.9e-02  3.2e-03  1.43e+00   -1.108711738e+00  -1.048592064e+00  3.1e-03  0.01  \n",
      "7   4.4e-04  4.1e-03  1.7e-04  1.12e+00   -1.072060463e+00  -1.064066181e+00  4.4e-04  0.01  \n",
      "8   9.4e-05  8.7e-04  1.6e-05  1.02e+00   -1.067640447e+00  -1.065956398e+00  9.4e-05  0.01  \n",
      "9   1.3e-05  1.2e-04  8.4e-07  1.00e+00   -1.066548966e+00  -1.066315851e+00  1.3e-05  0.01  \n",
      "10  7.0e-07  6.5e-06  1.0e-08  1.00e+00   -1.066373718e+00  -1.066361203e+00  7.0e-07  0.01  \n",
      "11  2.4e-08  2.2e-07  6.5e-11  1.00e+00   -1.066364072e+00  -1.066363649e+00  2.4e-08  0.01  \n",
      "12  6.0e-10  5.5e-09  2.6e-13  1.00e+00   -1.066363752e+00  -1.066363742e+00  6.0e-10  0.01  \n",
      "Optimizer terminated. Time: 0.02    \n",
      "\n",
      "\n",
      "Interior-point solution summary\n",
      "  Problem status  : PRIMAL_AND_DUAL_FEASIBLE\n",
      "  Solution status : OPTIMAL\n",
      "  Primal.  obj: -1.0663637523e+00   nrm: 1e+00    Viol.  con: 3e-10    var: 0e+00    acc: 1e-12  \n",
      "  Dual.    obj: -1.0663637415e+00   nrm: 1e+01    Viol.  con: 2e-10    var: 9e-11    acc: 0e+00  \n"
     ]
    }
   ],
   "source": [
    "delta = np.array([10] * T)\n",
    "x = multiperiod_mvo(N, T, m, G, x_0, delta, a, impact_coef)"
   ]
  },
  {
   "cell_type": "code",
   "execution_count": 90,
   "metadata": {},
   "outputs": [
    {
     "data": {
      "text/plain": [
       "array([[0.05235, 0.02724, 0.02724, 0.02724, 0.02724],\n",
       "       [0.125  , 0.125  , 0.125  , 0.125  , 0.125  ],\n",
       "       [0.22798, 0.25683, 0.26719, 0.26719, 0.26719],\n",
       "       [0.09109, 0.0702 , 0.0702 , 0.0702 , 0.0702 ],\n",
       "       [0.     , 0.     , 0.     , 0.     , 0.     ],\n",
       "       [0.25357, 0.25357, 0.25357, 0.25357, 0.25357],\n",
       "       [0.125  , 0.125  , 0.11464, 0.11464, 0.11464],\n",
       "       [0.125  , 0.14216, 0.14216, 0.14216, 0.14216]])"
      ]
     },
     "execution_count": 90,
     "metadata": {},
     "output_type": "execute_result"
    }
   ],
   "source": [
    "x"
   ]
  },
  {
   "cell_type": "code",
   "execution_count": null,
   "metadata": {},
   "outputs": [],
   "source": []
  }
 ],
 "metadata": {
  "kernelspec": {
   "display_name": "Python 3 (ipykernel)",
   "language": "python",
   "name": "python3"
  },
  "language_info": {
   "codemirror_mode": {
    "name": "ipython",
    "version": 3
   },
   "file_extension": ".py",
   "mimetype": "text/x-python",
   "name": "python",
   "nbconvert_exporter": "python",
   "pygments_lexer": "ipython3",
   "version": "3.9.7"
  }
 },
 "nbformat": 4,
 "nbformat_minor": 2
}
