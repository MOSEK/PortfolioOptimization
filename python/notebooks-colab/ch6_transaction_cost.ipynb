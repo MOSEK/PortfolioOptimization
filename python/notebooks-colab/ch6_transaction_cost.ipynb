{
 "cells": [
  {
   "cell_type": "markdown",
   "metadata": {},
   "source": [
    "LaTeX macros (hidden cell)\n",
    "$\n",
    "\\newcommand{\\Q}{\\mathcal{Q}}\n",
    "\\newcommand{\\ECov}{\\boldsymbol{\\Sigma}}\n",
    "\\newcommand{\\EMean}{\\boldsymbol{\\mu}}\n",
    "\\newcommand{\\EAlpha}{\\boldsymbol{\\alpha}}\n",
    "\\newcommand{\\EBeta}{\\boldsymbol{\\beta}}\n",
    "$"
   ]
  },
  {
   "cell_type": "markdown",
   "metadata": {},
   "source": [
    "# Imports and configuration"
   ]
  },
  {
   "cell_type": "code",
   "execution_count": null,
   "metadata": {
    "scrolled": true
   },
   "outputs": [],
   "source": [
    "%%bash\n",
    "FILE=/content/portfolio_tools.py\n",
    "if [[ ! -f $FILE ]]; then\n",
    "    wget https://raw.githubusercontent.com/MOSEK/PortfolioOptimization/main/python/notebooks/portfolio_tools.py\n",
    "fi"
   ]
  },
  {
   "cell_type": "code",
   "execution_count": null,
   "metadata": {},
   "outputs": [],
   "source": [
    "%pip install mosek \n",
    "%env PYTHONPATH /env/python:/content\n",
    "%env MOSEKLM_LICENSE_FILE /content/mosek.lic:/root/mosek/mosek.lic\n",
    "\n",
    "# To execute the notebook directly in colab make sure your MOSEK license file is in one the locations\n",
    "#\n",
    "# /content/mosek.lic   or   /root/mosek/mosek.lic\n",
    "#\n",
    "# inside this notebook's internal filesystem. \n",
    "#\n",
    "# You will also need an API key from a stock data provider, or ready data files in a \"stock_data\" folder."
   ]
  },
  {
   "cell_type": "code",
   "execution_count": null,
   "metadata": {
    "scrolled": false
   },
   "outputs": [],
   "source": [
    "import sys\n",
    "import os\n",
    "import re\n",
    "import datetime as dt\n",
    "\n",
    "import numpy as np\n",
    "import pandas as pd\n",
    "import statsmodels.api as sm\n",
    "%matplotlib inline\n",
    "import matplotlib\n",
    "import matplotlib.pyplot as plt\n",
    "from matplotlib.colors import LinearSegmentedColormap\n",
    "\n",
    "from mosek.fusion import *\n",
    "import mosek.fusion.pythonic          # From MOSEK >= 10.2\n",
    "\n",
    "from notebook.services.config import ConfigManager\n",
    "\n",
    "# portfolio_tools.py is a Mosek helper file distributed together with the notebooks\n",
    "from portfolio_tools import data_download, DataReader, compute_inputs"
   ]
  },
  {
   "cell_type": "code",
   "execution_count": null,
   "metadata": {},
   "outputs": [],
   "source": [
    "# Version checks\n",
    "print(sys.version)\n",
    "print('matplotlib: {}'.format(matplotlib.__version__))\n",
    "\n",
    "# Jupyter configuration\n",
    "c = ConfigManager()\n",
    "c.update('notebook', {\"CodeCell\": {\"cm_config\": {\"autoCloseBrackets\": False}}})  \n",
    "\n",
    "# Numpy options\n",
    "np.set_printoptions(precision=5, linewidth=120, suppress=True)\n",
    "\n",
    "# Pandas options\n",
    "pd.set_option('display.max_rows', None)\n",
    "\n",
    "# Matplotlib options\n",
    "plt.rcParams['figure.figsize'] = [12, 8]\n",
    "plt.rcParams['figure.dpi'] = 200"
   ]
  },
  {
   "cell_type": "markdown",
   "metadata": {},
   "source": [
    "# Prepare input data"
   ]
  },
  {
   "cell_type": "markdown",
   "metadata": {},
   "source": [
    "Here we load the raw data that will be used to compute the optimization input variables, the vector $\\EMean$ of expected returns and the covariance matrix $\\ECov$. The data consists of daily stock prices of $8$ stocks from the US market. "
   ]
  },
  {
   "cell_type": "markdown",
   "metadata": {},
   "source": [
    "## Download data"
   ]
  },
  {
   "cell_type": "code",
   "execution_count": null,
   "metadata": {},
   "outputs": [],
   "source": [
    "# Data downloading:\n",
    "# If the user has an API key for alphavantage.co, then this code part will download the data. \n",
    "# The code can be modified to download from other sources. To be able to run the examples, \n",
    "# and reproduce results in the cookbook, the files have to have the following format and content:\n",
    "# - File name pattern: \"daily_adjusted_[TICKER].csv\", where TICKER is the symbol of a stock. \n",
    "# - The file contains at least columns \"timestamp\", \"adjusted_close\", and \"volume\".\n",
    "# - The data is daily price/volume, covering at least the period from 2016-03-18 until 2021-03-18, \n",
    "# - Files are for the stocks PM, LMT, MCD, MMM, AAPL, MSFT, TXN, CSCO.\n",
    "list_stocks = [\"PM\", \"LMT\", \"MCD\", \"MMM\", \"AAPL\", \"MSFT\", \"TXN\", \"CSCO\"]\n",
    "list_factors = []\n",
    "alphaToken = None\n",
    " \n",
    "list_tickers = list_stocks + list_factors\n",
    "if alphaToken is not None:\n",
    "    data_download(list_tickers, alphaToken)  "
   ]
  },
  {
   "cell_type": "markdown",
   "metadata": {},
   "source": [
    "## Read data"
   ]
  },
  {
   "cell_type": "markdown",
   "metadata": {},
   "source": [
    "We load the daily stock price data from the downloaded CSV files. The data is adjusted for splits and dividends. Then a selected time period is taken from the data."
   ]
  },
  {
   "cell_type": "code",
   "execution_count": null,
   "metadata": {},
   "outputs": [],
   "source": [
    "investment_start = \"2016-03-18\"\n",
    "investment_end = \"2021-03-18\""
   ]
  },
  {
   "cell_type": "code",
   "execution_count": null,
   "metadata": {
    "scrolled": false
   },
   "outputs": [],
   "source": [
    "# The files are in \"stock_data\" folder, named as \"daily_adjusted_[TICKER].csv\"\n",
    "dr = DataReader(folder_path=\"stock_data\", symbol_list=list_tickers)\n",
    "dr.read_data(read_volume=True)\n",
    "df_prices, df_volumes = dr.get_period(start_date=investment_start, end_date=investment_end)"
   ]
  },
  {
   "cell_type": "markdown",
   "metadata": {},
   "source": [
    "# Run the optimization"
   ]
  },
  {
   "cell_type": "markdown",
   "metadata": {},
   "source": [
    "## Define the optimization model"
   ]
  },
  {
   "cell_type": "markdown",
   "metadata": {},
   "source": [
    "Below we implement the optimization model in Fusion API. We create it inside a function so we can call it later.\n",
    "\n",
    "The parameters:\n",
    "- `vp`/`vm`: Variable cost coefficients,\n",
    "- `fp`/`fm`: Fixed cost coefficients,\n",
    "- `up`/`um`: Upper bound of long and short side of the portfolio,\n",
    "- `lp`/`lm`: Lower bound of long and short side of the portfolio,\n",
    "- `pcoef`: Penalty term coefficient. (We use a penalty term to force either `xp` or `xm` to zero.)"
   ]
  },
  {
   "cell_type": "code",
   "execution_count": null,
   "metadata": {},
   "outputs": [],
   "source": [
    "# x = xp - xm\n",
    "# NOTE: Uses integer variables!\n",
    "def posneg(M, x, bigm_p, bigm_m=None):\n",
    "    bigm_m = bigm_p if bigm_m is None else bigm_m\n",
    "    \n",
    "    # Positive and negative part of x\n",
    "    xp = M.variable(\"_xp\", N, Domain.greaterThan(0.0))\n",
    "    xm = M.variable(\"_xm\", N, Domain.greaterThan(0.0))\n",
    "    \n",
    "    # Binary variables\n",
    "    yp = M.variable(\"_yp\", N, Domain.binary())\n",
    "    ym = M.variable(\"_ym\", N, Domain.binary())\n",
    "    \n",
    "    # Constraint assigning xp and xm to be the positive and negative part of x.\n",
    "    M.constraint('_pos-neg-part', x == xp - xm)\n",
    "    \n",
    "    # Constraints making sure xp and xm are never both positive.\n",
    "    M.constraint('_ubound-p', xp <= bigm_p * yp)\n",
    "    M.constraint('_ubound-m', xm <= bigm_m * ym)\n",
    "    M.constraint('_exclusion', yp + ym <= 1.0)\n",
    "    \n",
    "    return xp, xm, yp, ym\n",
    "\n",
    "\n",
    "def EfficientFrontier(N, m, G, deltas, vp, vm, fp, fm, up, um, lp, lm, pcoef):\n",
    "\n",
    "    with Model(\"Case study\") as M:\n",
    "        # Settings\n",
    "        #M.setLogHandler(sys.stdout)\n",
    "        \n",
    "        # Real variables \n",
    "        # The variable x is the fraction of holdings in each security.    \n",
    "        x = M.variable(\"x\", N, Domain.unbounded())\n",
    "        \n",
    "        # The variable s models the portfolio variance term in the objective.\n",
    "        s = M.variable(\"s\", 1, Domain.unbounded())\n",
    "        \n",
    "        # Auxiliary variable for 130/30 leverage constraint \n",
    "        z = M.variable(\"z\", N, Domain.unbounded())\n",
    "        \n",
    "        # Positive and negative part of x\n",
    "        xp, xm, yp, ym = posneg(M, x, up, um)\n",
    "    \n",
    "        # Buy-in\n",
    "        M.constraint('lbound-p', xp >= lp * yp)\n",
    "        M.constraint('lbound-m', xm >= lm * ym)\n",
    "    \n",
    "        # Budget constraint with transaction cost terms\n",
    "        fixcost_terms = yp.T @ fp + ym.T @ fm\n",
    "        varcost_terms = xp.T @ vp + xm.T @ vm\n",
    "        budget_terms = Expr.sum(x) + varcost_terms + fixcost_terms\n",
    "        M.constraint('budget', budget_terms == 1.0)\n",
    "\n",
    "        # 130/30 leverage constraint\n",
    "        M.constraint('leverage-gt', z >= x)\n",
    "        M.constraint('leverage-ls', z >= -x)\n",
    "        M.constraint('leverage-sum', Expr.sum(z) + varcost_terms + fixcost_terms == 1.6)\n",
    "        \n",
    "        # Objective (quadratic utility version)\n",
    "        delta = M.parameter()\n",
    "        penalty = pcoef * Expr.sum(xp + xm)\n",
    "        M.objective('obj', ObjectiveSense.Maximize, x.T @ m - penalty - delta * s)\n",
    "        \n",
    "        # Conic constraint for the portfolio variance\n",
    "        M.constraint('risk', Expr.vstack(s, 1, G.T @ x), Domain.inRotatedQCone())\n",
    "    \n",
    "        columns = [\"delta\", \"obj\", \"return\", \"risk\", \"x_sum\", \"tcost\"] + df_prices.columns.tolist()\n",
    "        df_result = pd.DataFrame(columns=columns)\n",
    "        for idx, d in enumerate(deltas):\n",
    "            # Update parameter\n",
    "            delta.setValue(d);\n",
    "            \n",
    "            # Solve optimization\n",
    "            M.solve()\n",
    "            \n",
    "            # Check if the solution is an optimal point\n",
    "            solsta = M.getPrimalSolutionStatus()\n",
    "            if (solsta != SolutionStatus.Optimal):\n",
    "                # See https://docs.mosek.com/latest/pythonfusion/accessing-solution.html about handling solution statuses.\n",
    "                raise Exception(\"Unexpected solution status!\") \n",
    "            \n",
    "            # Save results\n",
    "            portfolio_return = m @ x.level()\n",
    "            portfolio_risk = np.sqrt(2 * s.level()[0])            \n",
    "            tcost = np.dot(vp, xp.level()) + np.dot(vm, xm.level()) + np.dot(fp, yp.level()) + np.dot(fm, ym.level())\n",
    "            row = pd.Series([d, M.primalObjValue(), portfolio_return, portfolio_risk, \n",
    "                             sum(x.level()), tcost] + list(x.level()), index=columns)\n",
    "            df_result = pd.concat([df_result, pd.DataFrame([row])], ignore_index=True)\n",
    "\n",
    "        return df_result"
   ]
  },
  {
   "cell_type": "markdown",
   "metadata": {},
   "source": [
    "## Compute optimization input variables"
   ]
  },
  {
   "cell_type": "markdown",
   "metadata": {},
   "source": [
    "Here we use the loaded daily price data to compute the corresponding yearly mean return and covariance matrix."
   ]
  },
  {
   "cell_type": "code",
   "execution_count": null,
   "metadata": {},
   "outputs": [],
   "source": [
    "# Number of securities\n",
    "N = df_prices.shape[1]  \n",
    "\n",
    "# Get optimization parameters\n",
    "m, S = compute_inputs(df_prices)"
   ]
  },
  {
   "cell_type": "markdown",
   "metadata": {},
   "source": [
    "Next we compute the matrix $G$ such that $\\ECov=GG^\\mathsf{T}$, this is the input of the conic form of the optimization problem. Here we use Cholesky factorization."
   ]
  },
  {
   "cell_type": "code",
   "execution_count": null,
   "metadata": {},
   "outputs": [],
   "source": [
    "# Cholesky factor of S to use in conic risk constraint\n",
    "G = np.linalg.cholesky(S)"
   ]
  },
  {
   "cell_type": "markdown",
   "metadata": {},
   "source": [
    "## Call the optimizer function"
   ]
  },
  {
   "cell_type": "markdown",
   "metadata": {},
   "source": [
    "We run the optimization for a range of risk aversion parameter values: $\\delta = 10^{-0.5},\\dots,10^{2}$. We compute and plot the efficient frontier this way both with and without transaction cost. "
   ]
  },
  {
   "cell_type": "code",
   "execution_count": null,
   "metadata": {
    "scrolled": false
   },
   "outputs": [],
   "source": [
    "deltas = np.logspace(start=-0.5, stop=2, num=20)[::-1]\n",
    "ax = plt.gca()\n",
    "for a in [0, 1]:\n",
    "    pcoef = a * 0.03\n",
    "    fp = a * 0.005 * np.ones(N) # Depends on portfolio value\n",
    "    fm = a * 0.01 * np.ones(N) # Depends on portfolio value\n",
    "    vp = a * 0.01 * np.ones(N)\n",
    "    vm = a * 0.02 * np.ones(N)\n",
    "    up = 2.0\n",
    "    um = 2.0\n",
    "    lp = a * 0.05\n",
    "    lm = a * 0.05\n",
    "\n",
    "    df_result = EfficientFrontier(N, m, G, deltas, vp, vm, fp, fm, up, um, lp, lm, pcoef)\n",
    "    df_result.plot(ax=ax, x=\"risk\", y=\"return\", style=\"-o\", \n",
    "                   xlabel=\"portfolio risk (std. dev.)\", ylabel=\"portfolio return\", grid=True)\n",
    "ax.legend([\"return without transaction cost\", \"return with transaction cost\"]);"
   ]
  }
 ],
 "metadata": {
  "kernelspec": {
   "display_name": "Python 3 (ipykernel)",
   "language": "python",
   "name": "python3"
  },
  "language_info": {
   "codemirror_mode": {
    "name": "ipython",
    "version": 3
   },
   "file_extension": ".py",
   "mimetype": "text/x-python",
   "name": "python",
   "nbconvert_exporter": "python",
   "pygments_lexer": "ipython3",
   "version": "3.9.7"
  }
 },
 "nbformat": 4,
 "nbformat_minor": 2
}
