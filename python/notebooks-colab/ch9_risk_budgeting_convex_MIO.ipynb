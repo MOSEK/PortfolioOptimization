{
 "cells": [
  {
   "cell_type": "markdown",
   "metadata": {},
   "source": [
    "LaTeX macros (hidden cell)\n",
    "$\n",
    "\\newcommand{\\Q}{\\mathcal{Q}}\n",
    "\\newcommand{\\ECov}{\\boldsymbol{\\Sigma}}\n",
    "\\newcommand{\\EMean}{\\boldsymbol{\\mu}}\n",
    "\\newcommand{\\EAlpha}{\\boldsymbol{\\alpha}}\n",
    "\\newcommand{\\EBeta}{\\boldsymbol{\\beta}}\n",
    "$"
   ]
  },
  {
   "cell_type": "markdown",
   "metadata": {},
   "source": [
    "# Imports and configuration"
   ]
  },
  {
   "cell_type": "code",
   "execution_count": null,
   "metadata": {
    "scrolled": true
   },
   "outputs": [],
   "source": [
    "%%bash\n",
    "FILE=/content/portfolio_tools.py\n",
    "if [[ ! -f $FILE ]]; then\n",
    "    wget https://raw.githubusercontent.com/MOSEK/PortfolioOptimization/main/python/notebooks/portfolio_tools.py\n",
    "fi"
   ]
  },
  {
   "cell_type": "code",
   "execution_count": null,
   "metadata": {},
   "outputs": [],
   "source": [
    "!pip install mosek \n",
    "!export PYTHONPATH=\"$PYTHONPATH:/content\"\n",
    "\n",
    "# To execute the notebook directly in colab make sure your MOSEK license file is in one the locations\n",
    "#\n",
    "# /content/mosek.lic   or   /root/mosek/mosek.lic\n",
    "#\n",
    "# inside this notebook's internal filesystem. \n",
    "#\n",
    "# You will also need an API key from a stock data provider, or ready data files in a \"stock_data\" folder."
   ]
  },
  {
   "cell_type": "code",
   "execution_count": 1,
   "metadata": {
    "scrolled": false
   },
   "outputs": [],
   "source": [
    "import os\n",
    "import re\n",
    "import datetime as dt\n",
    "\n",
    "import numpy as np\n",
    "import pandas as pd\n",
    "%matplotlib inline\n",
    "import matplotlib\n",
    "import matplotlib.pyplot as plt\n",
    "from matplotlib.colors import LinearSegmentedColormap\n",
    "\n",
    "from mosek.fusion import *\n",
    "\n",
    "from notebook.services.config import ConfigManager\n",
    "\n",
    "from portfolio_tools import data_download, DataReader, compute_inputs"
   ]
  },
  {
   "cell_type": "code",
   "execution_count": null,
   "metadata": {},
   "outputs": [],
   "source": [
    "# Colab additional settings\n",
    "os.environ['MOSEKLM_LICENSE_FILE']=\"/content:/root/mosek\""
   ]
  },
  {
   "cell_type": "code",
   "execution_count": 2,
   "metadata": {},
   "outputs": [
    {
     "name": "stdout",
     "output_type": "stream",
     "text": [
      "3.6.9 (default, Jan 26 2021, 15:33:00) \n",
      "[GCC 8.4.0]\n",
      "matplotlib: 3.3.4\n"
     ]
    }
   ],
   "source": [
    "# Version checks\n",
    "print(sys.version)\n",
    "print('matplotlib: {}'.format(matplotlib.__version__))\n",
    "\n",
    "# Jupyter configuration\n",
    "c = ConfigManager()\n",
    "c.update('notebook', {\"CodeCell\": {\"cm_config\": {\"autoCloseBrackets\": False}}})  \n",
    "\n",
    "# Numpy options\n",
    "np.set_printoptions(precision=5, linewidth=120, suppress=True)\n",
    "\n",
    "# Pandas options\n",
    "pd.set_option('display.max_rows', None)\n",
    "\n",
    "# Matplotlib options\n",
    "plt.rcParams['figure.figsize'] = [12, 8]\n",
    "plt.rcParams['figure.dpi'] = 200"
   ]
  },
  {
   "cell_type": "markdown",
   "metadata": {},
   "source": [
    "# Prepare input data"
   ]
  },
  {
   "cell_type": "markdown",
   "metadata": {},
   "source": [
    "Here we load the raw data that will be used to compute the optimization input variables, the vector $\\EMean$ of expected returns and the covariance matrix $\\ECov$. The data consists of daily stock prices of $8$ stocks from the US market. "
   ]
  },
  {
   "cell_type": "markdown",
   "metadata": {},
   "source": [
    "## Download data"
   ]
  },
  {
   "cell_type": "code",
   "execution_count": 3,
   "metadata": {},
   "outputs": [],
   "source": [
    "# Data downloading:\n",
    "# If the user has an API key for alphavantage.co, then this code part will download the data. \n",
    "# The code can be modified to download from other sources. To be able to run the examples, \n",
    "# and reproduce results in the cookbook, the files have to have the following format and content:\n",
    "# - File name pattern: \"daily_adjusted_[TICKER].csv\", where TICKER is the symbol of a stock. \n",
    "# - The file contains at least columns \"timestamp\", \"adjusted_close\", and \"volume\".\n",
    "# - The data is daily price/volume, covering at least the period from 2016-03-18 until 2021-03-18, \n",
    "# - Files are for the stocks PM, LMT, MCD, MMM, AAPL, MSFT, TXN, CSCO.\n",
    "list_stocks = [\"PM\", \"LMT\", \"MCD\", \"MMM\", \"AAPL\", \"MSFT\", \"TXN\", \"CSCO\"]\n",
    "list_factors = []\n",
    "alphaToken = None\n",
    " \n",
    "list_tickers = list_stocks + list_factors\n",
    "if alphaToken is not None:\n",
    "    data_download(list_tickers, alphaToken)  "
   ]
  },
  {
   "cell_type": "markdown",
   "metadata": {},
   "source": [
    "## Read data"
   ]
  },
  {
   "cell_type": "markdown",
   "metadata": {},
   "source": [
    "We load the daily stock price data from the downloaded CSV files. The data is adjusted for splits and dividends. Then a selected time period is taken from the data."
   ]
  },
  {
   "cell_type": "code",
   "execution_count": 4,
   "metadata": {},
   "outputs": [],
   "source": [
    "investment_start = \"2016-03-18\"\n",
    "investment_end = \"2021-03-18\""
   ]
  },
  {
   "cell_type": "code",
   "execution_count": 5,
   "metadata": {
    "scrolled": false
   },
   "outputs": [
    {
     "name": "stdout",
     "output_type": "stream",
     "text": [
      "Found data files: \n",
      "stock_data/daily_adjusted_AAPL.csv\n",
      "stock_data/daily_adjusted_PM.csv\n",
      "stock_data/daily_adjusted_CSCO.csv\n",
      "stock_data/daily_adjusted_TXN.csv\n",
      "stock_data/daily_adjusted_MMM.csv\n",
      "stock_data/daily_adjusted_IWM.csv\n",
      "stock_data/daily_adjusted_MCD.csv\n",
      "stock_data/daily_adjusted_SPY.csv\n",
      "stock_data/daily_adjusted_MSFT.csv\n",
      "stock_data/daily_adjusted_LMT.csv\n",
      "\n",
      "Using data files: \n",
      "stock_data/daily_adjusted_PM.csv\n",
      "stock_data/daily_adjusted_LMT.csv\n",
      "stock_data/daily_adjusted_MCD.csv\n",
      "stock_data/daily_adjusted_MMM.csv\n",
      "stock_data/daily_adjusted_AAPL.csv\n",
      "stock_data/daily_adjusted_MSFT.csv\n",
      "stock_data/daily_adjusted_TXN.csv\n",
      "stock_data/daily_adjusted_CSCO.csv\n",
      "\n"
     ]
    }
   ],
   "source": [
    "# The files are in \"stock_data\" folder, named as \"daily_adjusted_[TICKER].csv\"\n",
    "dr = DataReader(folder_path=\"stock_data\", symbol_list=list_tickers)\n",
    "dr.read_data()\n",
    "df_prices, _ = dr.get_period(start_date=investment_start, end_date=investment_end)"
   ]
  },
  {
   "cell_type": "markdown",
   "metadata": {},
   "source": [
    "# Run the optimization"
   ]
  },
  {
   "cell_type": "markdown",
   "metadata": {},
   "source": [
    "## Define the optimization model"
   ]
  },
  {
   "cell_type": "markdown",
   "metadata": {},
   "source": [
    "Below we implement the optimization model in Fusion API. We create it inside a function so we can call it later."
   ]
  },
  {
   "cell_type": "code",
   "execution_count": 6,
   "metadata": {},
   "outputs": [],
   "source": [
    "def RiskBudgeting(N, G, b, a):\n",
    "    \n",
    "    with Model('Risk budgeting') as M:\n",
    "        # Settings\n",
    "        M.setLogHandler(sys.stdout)\n",
    "        \n",
    "        # Portfolio weights\n",
    "        x = M.variable(\"x\", N, Domain.unbounded())\n",
    "        xp = M.variable(\"xp\", N, Domain.greaterThan(0.0))\n",
    "        xm = M.variable(\"xm\", N, Domain.greaterThan(0.0))\n",
    "        \n",
    "        # Binary variables\n",
    "        yp = M.variable(\"yp\", N, Domain.binary())\n",
    "        ym = M.variable(\"ym\", N, Domain.binary())\n",
    "        \n",
    "        # Constraint assigning xp and xm to be the positive and negative part of x.\n",
    "        M.constraint('pos-neg-part', Expr.sub(x, Expr.sub(xp, xm)), Domain.equalsTo(0.0))\n",
    "        \n",
    "        # Orthant specifier constraints\n",
    "        bigM = 20\n",
    "        M.constraint('ubound-p', Expr.sub(Expr.mul(bigM, yp), xp), Domain.greaterThan(0.0))\n",
    "        M.constraint('ubound-m', Expr.sub(Expr.mul(bigM, ym), xm), Domain.greaterThan(0.0))\n",
    "        \n",
    "        # Exclusive buy-sell constraint\n",
    "        M.constraint('exclusion', Expr.add(yp, ym), Domain.lessThan(1.0))\n",
    "        \n",
    "        # Auxiliary variables\n",
    "        t = M.variable(\"t\", N, Domain.unbounded())\n",
    "        s = M.variable(\"s\", 1, Domain.unbounded())\n",
    "    \n",
    "        # Objective function: 1/2 * x'Sx - a * b'log(|x|) becomes s - a * b't\n",
    "        M.objective(ObjectiveSense.Minimize, Expr.sub(s, Expr.mul(a, Expr.dot(b, t))))\n",
    "    \n",
    "        # Bound on risk term \n",
    "        M.constraint(Expr.vstack(s, 1, Expr.mul(G.T, x)), Domain.inRotatedQCone())\n",
    "    \n",
    "        # Bound on log term: t <= log(x) becomes (|x|, 1, t) in K_exp\n",
    "        M.constraint(Expr.hstack(Expr.add(xp, xm), Expr.constTerm(N, 1.0), t), Domain.inPExpCone())\n",
    "    \n",
    "        # Create DataFrame to store the results.\n",
    "        columns = [\"obj\", \"risk\", \"xsum\", \"bsum\"] + df_prices.columns.tolist()\n",
    "        df_result = pd.DataFrame(columns=columns) \n",
    "   \n",
    "        # Solve optimization\n",
    "        M.solve()\n",
    "\n",
    "        # Save results\n",
    "        xv = x.level()\n",
    "        \n",
    "        # Check solution quality\n",
    "        risk_budgets = xv * np.dot(G @ G.T, xv)\n",
    "        \n",
    "        # Renormalize to gross exposure = 1\n",
    "        xv = xv / np.abs(xv).sum()\n",
    "        \n",
    "        # Compute portfolio metrics\n",
    "        Gx = np.dot(G.T, xv)\n",
    "        portfolio_risk = np.sqrt(np.dot(Gx, Gx))     \n",
    "        \n",
    "        row = pd.Series([M.primalObjValue(), portfolio_risk, np.sum(xv), np.sum(risk_budgets)] + list(xv), index=columns)\n",
    "        df_result = df_result.append(row, ignore_index=True)\n",
    "        row = pd.Series([None] * 4 + list(risk_budgets), index=columns)\n",
    "        df_result = df_result.append(row, ignore_index=True)\n",
    "\n",
    "        return df_result"
   ]
  },
  {
   "cell_type": "markdown",
   "metadata": {},
   "source": [
    "## Compute optimization input variables"
   ]
  },
  {
   "cell_type": "markdown",
   "metadata": {},
   "source": [
    "Here we use the loaded daily price data to compute the corresponding yearly mean return and covariance matrix."
   ]
  },
  {
   "cell_type": "code",
   "execution_count": 7,
   "metadata": {
    "scrolled": true
   },
   "outputs": [],
   "source": [
    "# Number of securities\n",
    "N = df_prices.shape[1]\n",
    "\n",
    "# Get optimization parameters\n",
    "m, S = compute_inputs(df_prices, shrinkage=False)\n",
    "\n",
    "# Risk budget\n",
    "b = np.ones(N) / N\n",
    "\n",
    "# Global setting for sum of b\n",
    "a = 1"
   ]
  },
  {
   "cell_type": "markdown",
   "metadata": {},
   "source": [
    "Next we compute the matrix $G$ such that $\\ECov=GG^\\mathsf{T}$, this is the input of the conic form of the optimization problem. Here we use Cholesky factorization."
   ]
  },
  {
   "cell_type": "code",
   "execution_count": 8,
   "metadata": {},
   "outputs": [],
   "source": [
    "G = np.linalg.cholesky(S)"
   ]
  },
  {
   "cell_type": "markdown",
   "metadata": {},
   "source": [
    "## Call the optimizer function"
   ]
  },
  {
   "cell_type": "code",
   "execution_count": 9,
   "metadata": {
    "scrolled": false
   },
   "outputs": [
    {
     "name": "stdout",
     "output_type": "stream",
     "text": [
      "Problem\n",
      "  Name                   : Risk budgeting  \n",
      "  Objective sense        : min             \n",
      "  Type                   : CONIC (conic optimization problem)\n",
      "  Constraints            : 66              \n",
      "  Cones                  : 9               \n",
      "  Scalar variables       : 84              \n",
      "  Matrix variables       : 0               \n",
      "  Integer variables      : 16              \n",
      "\n",
      "Optimizer started.\n",
      "Mixed integer optimizer started.\n",
      "Threads used: 20\n",
      "Presolve started.\n",
      "Presolve terminated. Time = 0.00\n",
      "Presolved problem: 65 variables, 39 constraints, 122 non-zeros\n",
      "Presolved problem: 0 general integer, 17 binary, 48 continuous\n",
      "Clique table size: 0\n",
      "BRANCHES RELAXS   ACT_NDS  DEPTH    BEST_INT_OBJ         BEST_RELAX_OBJ       REL_GAP(%)  TIME  \n",
      "0        1        1        0        NA                   -2.9957317194e+00    NA          0.1   \n",
      "0        1        1        0        2.2615865763e-01     -2.9957317194e+00    1.42e+03    0.1   \n",
      "Cut generation started.\n",
      "0        1        1        0        2.2615865763e-01     -2.9957317194e+00    1.42e+03    0.1   \n",
      "Cut generation terminated. Time = 0.00\n",
      "10       14       11       1        2.2615865763e-01     -2.5787662495e+00    1.24e+03    0.1   \n",
      "22       26       23       2        2.2615865763e-01     -2.5787662495e+00    1.24e+03    0.2   \n",
      "39       43       40       3        2.2615865763e-01     -2.2114311000e+00    1.08e+03    0.2   \n",
      "65       69       64       5        2.2615865763e-01     -2.2001039212e+00    1.07e+03    0.2   \n",
      "121      125      56       8        -1.6277897521e-01    -2.2001039212e+00    1.25e+03    0.2   \n",
      "160      161      63       8        -1.6277897521e-01    -2.2001039212e+00    1.25e+03    0.2   \n",
      "218      219      53       4        -1.6277897521e-01    -1.8355556467e+00    1.03e+03    0.2   \n",
      "258      259      49       5        -1.6277897521e-01    -1.8355556467e+00    1.03e+03    0.2   \n",
      "290      291      47       5        -1.6277897521e-01    -1.8119491325e+00    1.01e+03    0.2   \n",
      "325      326      40       7        -1.6277897521e-01    -1.8119491325e+00    1.01e+03    0.2   \n",
      "354      355      31       8        -1.6277897521e-01    -1.8119491325e+00    1.01e+03    0.2   \n",
      "369      370      28       7        -1.6277897521e-01    -1.8119491325e+00    1.01e+03    0.2   \n",
      "389      390      26       7        -1.6277897521e-01    -1.3969567588e+00    758.19      0.2   \n",
      "400      401      27       6        -1.6277897521e-01    -1.3969567588e+00    758.19      0.2   \n",
      "421      422      16       5        -1.6277897521e-01    -1.3969567588e+00    758.19      0.2   \n",
      "434      435      11       8        -1.6277897521e-01    -1.3969567588e+00    758.19      0.3   \n",
      "446      447      7        5        -1.6277897521e-01    -1.0859202810e+00    567.11      0.3   \n",
      "460      461      5        8        -1.6277897521e-01    -9.7412192724e-01    498.43      0.3   \n",
      "471      472      2        7        -1.6277897521e-01    -2.3159637478e-01    42.28       0.3   \n",
      "An optimal solution satisfying the relative gap tolerance of 1.00e-02(%) has been located.\n",
      "The relative gap is 0.00e+00(%).\n",
      "An optimal solution satisfying the absolute gap tolerance of 0.00e+00 has been located.\n",
      "The absolute gap is 0.00e+00.\n",
      "\n",
      "Objective of best integer solution : -1.627789752068e-01     \n",
      "Best objective bound               : -1.627789752068e-01     \n",
      "Construct solution objective       : Not employed\n",
      "User objective cut value           : Not employed\n",
      "Number of cuts generated           : 0\n",
      "Number of branches                 : 473\n",
      "Number of relaxations solved       : 474\n",
      "Number of interior point iterations: 7154\n",
      "Number of simplex iterations       : 0\n",
      "Time spend presolving the root     : 0.00\n",
      "Time spend optimizing the root     : 0.01\n",
      "Mixed integer optimizer terminated. Time: 0.29\n",
      "\n",
      "Optimizer terminated. Time: 0.30    \n",
      "\n",
      "\n",
      "Integer solution solution summary\n",
      "  Problem status  : PRIMAL_FEASIBLE\n",
      "  Solution status : INTEGER_OPTIMAL\n",
      "  Primal.  obj: -1.6277897521e-01   nrm: 2e+01    Viol.  con: 1e-16    var: 0e+00    cones: 0e+00    itg: 0e+00  \n"
     ]
    }
   ],
   "source": [
    "df_result = RiskBudgeting(N, G, b, a)"
   ]
  },
  {
   "cell_type": "markdown",
   "metadata": {},
   "source": [
    "Check the results."
   ]
  },
  {
   "cell_type": "code",
   "execution_count": 10,
   "metadata": {
    "scrolled": false
   },
   "outputs": [
    {
     "data": {
      "text/html": [
       "<div>\n",
       "<style scoped>\n",
       "    .dataframe tbody tr th:only-of-type {\n",
       "        vertical-align: middle;\n",
       "    }\n",
       "\n",
       "    .dataframe tbody tr th {\n",
       "        vertical-align: top;\n",
       "    }\n",
       "\n",
       "    .dataframe thead th {\n",
       "        text-align: right;\n",
       "    }\n",
       "</style>\n",
       "<table border=\"1\" class=\"dataframe\">\n",
       "  <thead>\n",
       "    <tr style=\"text-align: right;\">\n",
       "      <th></th>\n",
       "      <th>obj</th>\n",
       "      <th>risk</th>\n",
       "      <th>xsum</th>\n",
       "      <th>bsum</th>\n",
       "      <th>PM</th>\n",
       "      <th>LMT</th>\n",
       "      <th>MCD</th>\n",
       "      <th>MMM</th>\n",
       "      <th>AAPL</th>\n",
       "      <th>MSFT</th>\n",
       "      <th>TXN</th>\n",
       "      <th>CSCO</th>\n",
       "    </tr>\n",
       "  </thead>\n",
       "  <tbody>\n",
       "    <tr>\n",
       "      <th>0</th>\n",
       "      <td>-0.162779</td>\n",
       "      <td>0.063972</td>\n",
       "      <td>-0.01382</td>\n",
       "      <td>0.999933</td>\n",
       "      <td>0.110717</td>\n",
       "      <td>0.121953</td>\n",
       "      <td>-0.157497</td>\n",
       "      <td>-0.124437</td>\n",
       "      <td>-0.102620</td>\n",
       "      <td>0.132594</td>\n",
       "      <td>0.127826</td>\n",
       "      <td>-0.122356</td>\n",
       "    </tr>\n",
       "    <tr>\n",
       "      <th>1</th>\n",
       "      <td>NaN</td>\n",
       "      <td>NaN</td>\n",
       "      <td>NaN</td>\n",
       "      <td>NaN</td>\n",
       "      <td>0.124993</td>\n",
       "      <td>0.124993</td>\n",
       "      <td>0.124994</td>\n",
       "      <td>0.124991</td>\n",
       "      <td>0.124992</td>\n",
       "      <td>0.124992</td>\n",
       "      <td>0.124993</td>\n",
       "      <td>0.124986</td>\n",
       "    </tr>\n",
       "  </tbody>\n",
       "</table>\n",
       "</div>"
      ],
      "text/plain": [
       "        obj      risk     xsum      bsum        PM       LMT       MCD  \\\n",
       "0 -0.162779  0.063972 -0.01382  0.999933  0.110717  0.121953 -0.157497   \n",
       "1       NaN       NaN      NaN       NaN  0.124993  0.124993  0.124994   \n",
       "\n",
       "        MMM      AAPL      MSFT       TXN      CSCO  \n",
       "0 -0.124437 -0.102620  0.132594  0.127826 -0.122356  \n",
       "1  0.124991  0.124992  0.124992  0.124993  0.124986  "
      ]
     },
     "execution_count": 10,
     "metadata": {},
     "output_type": "execute_result"
    }
   ],
   "source": [
    "df_result"
   ]
  },
  {
   "cell_type": "markdown",
   "metadata": {},
   "source": [
    "## Visualize the results"
   ]
  },
  {
   "cell_type": "markdown",
   "metadata": {},
   "source": [
    "Plot the portfolio components."
   ]
  },
  {
   "cell_type": "code",
   "execution_count": 11,
   "metadata": {
    "scrolled": false
   },
   "outputs": [
    {
     "data": {
      "image/png": "[encoded data removed]",
      "text/plain": [
       "<Figure size 2400x1600 with 1 Axes>"
      ]
     },
     "metadata": {},
     "output_type": "display_data"
    }
   ],
   "source": [
    "ax = df_result.iloc[0, 4:].T.plot.bar(xlabel=\"securities\", ylabel=\"x\", grid=True, rot=0)"
   ]
  },
  {
   "cell_type": "markdown",
   "metadata": {},
   "source": [
    "Plot the risk budgets."
   ]
  },
  {
   "cell_type": "code",
   "execution_count": 12,
   "metadata": {
    "scrolled": false
   },
   "outputs": [
    {
     "data": {
      "image/png": "[encoded data removed]",
      "text/plain": [
       "<Figure size 2400x1600 with 1 Axes>"
      ]
     },
     "metadata": {},
     "output_type": "display_data"
    }
   ],
   "source": [
    "ax = df_result.iloc[1, 4:].T.plot.bar(xlabel=\"securities\", ylabel=\"risk budget\", grid=True, rot=0)"
   ]
  }
 ],
 "metadata": {
  "kernelspec": {
   "display_name": "Python 3 (ipykernel)",
   "language": "python",
   "name": "python3"
  },
  "language_info": {
   "codemirror_mode": {
    "name": "ipython",
    "version": 3
   },
   "file_extension": ".py",
   "mimetype": "text/x-python",
   "name": "python",
   "nbconvert_exporter": "python",
   "pygments_lexer": "ipython3",
   "version": "3.9.7"
  }
 },
 "nbformat": 4,
 "nbformat_minor": 2
}
