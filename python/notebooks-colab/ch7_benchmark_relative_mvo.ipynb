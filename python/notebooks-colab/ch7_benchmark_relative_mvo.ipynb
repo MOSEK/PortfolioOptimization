{
 "cells": [
  {
   "cell_type": "markdown",
   "metadata": {},
   "source": [
    "LaTeX macros (hidden cell)\n",
    "$\n",
    "\\newcommand{\\Q}{\\mathcal{Q}}\n",
    "\\newcommand{\\ECov}{\\boldsymbol{\\Sigma}}\n",
    "\\newcommand{\\EMean}{\\boldsymbol{\\mu}}\n",
    "\\newcommand{\\EAlpha}{\\boldsymbol{\\alpha}}\n",
    "\\newcommand{\\EBeta}{\\boldsymbol{\\beta}}\n",
    "$"
   ]
  },
  {
   "cell_type": "markdown",
   "metadata": {},
   "source": [
    "# Imports and configuration"
   ]
  },
  {
   "cell_type": "code",
   "execution_count": null,
   "metadata": {
    "scrolled": true
   },
   "outputs": [],
   "source": [
    "%%bash\n",
    "FILE=/content/portfolio_tools.py\n",
    "if [[ ! -f $FILE ]]; then\n",
    "    wget https://raw.githubusercontent.com/MOSEK/PortfolioOptimization/main/python/notebooks/portfolio_tools.py\n",
    "fi"
   ]
  },
  {
   "cell_type": "code",
   "execution_count": null,
   "metadata": {},
   "outputs": [],
   "source": [
    "%pip install mosek \n",
    "%env PYTHONPATH /env/python:/content\n",
    "%env MOSEKLM_LICENSE_FILE /content/mosek.lic:/root/mosek/mosek.lic\n",
    "\n",
    "# To execute the notebook directly in colab make sure your MOSEK license file is in one the locations\n",
    "#\n",
    "# /content/mosek.lic   or   /root/mosek/mosek.lic\n",
    "#\n",
    "# inside this notebook's internal filesystem. \n",
    "#\n",
    "# You will also need an API key from a stock data provider, or ready data files in a \"stock_data\" folder."
   ]
  },
  {
   "cell_type": "code",
   "execution_count": null,
   "metadata": {
    "scrolled": false
   },
   "outputs": [],
   "source": [
    "import sys\n",
    "import os\n",
    "import re\n",
    "import datetime as dt\n",
    "\n",
    "import numpy as np\n",
    "import pandas as pd\n",
    "import statsmodels.api as sm\n",
    "%matplotlib inline\n",
    "import matplotlib\n",
    "import matplotlib.pyplot as plt\n",
    "from matplotlib.colors import LinearSegmentedColormap\n",
    "\n",
    "from mosek.fusion import *\n",
    "import mosek.fusion.pythonic          # From MOSEK >= 10.2\n",
    "\n",
    "from notebook.services.config import ConfigManager\n",
    "\n",
    "# portfolio_tools.py is a Mosek helper file distributed together with the notebooks\n",
    "from portfolio_tools import data_download, DataReader, compute_inputs"
   ]
  },
  {
   "cell_type": "code",
   "execution_count": null,
   "metadata": {},
   "outputs": [],
   "source": [
    "# Version checks\n",
    "print(sys.version)\n",
    "print('matplotlib: {}'.format(matplotlib.__version__))\n",
    "\n",
    "# Jupyter configuration\n",
    "c = ConfigManager()\n",
    "c.update('notebook', {\"CodeCell\": {\"cm_config\": {\"autoCloseBrackets\": False}}})  \n",
    "\n",
    "# Numpy options\n",
    "np.set_printoptions(precision=5, linewidth=120, suppress=True)\n",
    "\n",
    "# Pandas options\n",
    "pd.set_option('display.max_rows', None)\n",
    "\n",
    "# Matplotlib options\n",
    "plt.rcParams['figure.figsize'] = [12, 8]\n",
    "plt.rcParams['figure.dpi'] = 200"
   ]
  },
  {
   "cell_type": "markdown",
   "metadata": {},
   "source": [
    "# Prepare input data"
   ]
  },
  {
   "cell_type": "markdown",
   "metadata": {},
   "source": [
    "Here we load the raw data that will be used to compute the optimization input variables, the vector $\\EMean$ of expected returns and the covariance matrix $\\ECov$. The data consists of daily stock prices of $8$ stocks from the US market. "
   ]
  },
  {
   "cell_type": "markdown",
   "metadata": {},
   "source": [
    "## Download data"
   ]
  },
  {
   "cell_type": "code",
   "execution_count": null,
   "metadata": {},
   "outputs": [],
   "source": [
    "# Data downloading:\n",
    "# If the user has an API key for alphavantage.co, then this code part will download the data. \n",
    "# The code can be modified to download from other sources. To be able to run the examples, \n",
    "# and reproduce results in the cookbook, the files have to have the following format and content:\n",
    "# - File name pattern: \"daily_adjusted_[TICKER].csv\", where TICKER is the symbol of a stock. \n",
    "# - The file contains at least columns \"timestamp\", \"adjusted_close\", and \"volume\".\n",
    "# - The data is daily price/volume, covering at least the period from 2016-03-18 until 2021-03-18, \n",
    "# - Files are for the stocks PM, LMT, MCD, MMM, AAPL, MSFT, TXN, CSCO.\n",
    "list_stocks = [\"PM\", \"LMT\", \"MCD\", \"MMM\", \"AAPL\", \"MSFT\", \"TXN\", \"CSCO\"]\n",
    "list_factors = []\n",
    "alphaToken = None\n",
    " \n",
    "list_tickers = list_stocks + list_factors\n",
    "if alphaToken is not None:\n",
    "    data_download(list_tickers, alphaToken)  "
   ]
  },
  {
   "cell_type": "markdown",
   "metadata": {},
   "source": [
    "## Read data"
   ]
  },
  {
   "cell_type": "markdown",
   "metadata": {},
   "source": [
    "We load the daily stock price data from the downloaded CSV files. The data is adjusted for splits and dividends. Then a selected time period is taken from the data."
   ]
  },
  {
   "cell_type": "code",
   "execution_count": null,
   "metadata": {},
   "outputs": [],
   "source": [
    "investment_start = \"2016-03-18\"\n",
    "investment_end = \"2021-03-18\""
   ]
  },
  {
   "cell_type": "code",
   "execution_count": null,
   "metadata": {
    "scrolled": false
   },
   "outputs": [],
   "source": [
    "# The files are in \"stock_data\" folder, named as \"daily_adjusted_[TICKER].csv\"\n",
    "dr = DataReader(folder_path=\"stock_data\", symbol_list=list_tickers)\n",
    "dr.read_data(read_volume=True)\n",
    "df_prices, df_volumes = dr.get_period(start_date=investment_start, end_date=investment_end)"
   ]
  },
  {
   "cell_type": "markdown",
   "metadata": {},
   "source": [
    "We also create the benchmark. It is the so called $\\frac{1}{n}$ portfolio."
   ]
  },
  {
   "cell_type": "code",
   "execution_count": null,
   "metadata": {},
   "outputs": [],
   "source": [
    "# Create benchmark\n",
    "df_prices['bm'] = df_prices.iloc[:-2, 0:8].mean(axis=1)"
   ]
  },
  {
   "cell_type": "markdown",
   "metadata": {},
   "source": [
    "# Run the optimization"
   ]
  },
  {
   "cell_type": "markdown",
   "metadata": {},
   "source": [
    "## Define the optimization model"
   ]
  },
  {
   "cell_type": "markdown",
   "metadata": {},
   "source": [
    "Below we implement the optimization model in Fusion API. We create it inside a function so we can call it later.\n",
    "\n",
    "The parameters:\n",
    "- `a`: The vector of alphas. (Used instead of mean returns.)\n",
    "- `B`: The vector of betas ().\n",
    "- `xbm`: The benchmark portfolio.\n",
    "- `uh`/`ub`: Upper bound on active holdings and active beta.\n",
    "- `lh`/`lb`: Lower bound on active holdings and active beta."
   ]
  },
  {
   "cell_type": "code",
   "execution_count": null,
   "metadata": {},
   "outputs": [],
   "source": [
    "def EfficientFrontier(N, a, B, G, xbm, deltas, uh, ub, lh, lb):\n",
    "\n",
    "    with Model(\"Case study\") as M:\n",
    "        # Settings\n",
    "        #M.setLogHandler(sys.stdout)\n",
    "        \n",
    "        # Variables \n",
    "        # The variable x is the fraction of holdings in each security. \n",
    "        # It is restricted to be positive, which imposes the constraint of no short-selling.   \n",
    "        x = M.variable(\"x\", N, Domain.greaterThan(0.0))\n",
    "        \n",
    "        # Active holdings\n",
    "        xa = x - xbm\n",
    "        \n",
    "        # The variable s models the portfolio variance term in the objective.\n",
    "        s = M.variable(\"s\", 1, Domain.unbounded())\n",
    "    \n",
    "        # Budget constraint\n",
    "        M.constraint('budget_x', Expr.sum(x) == 1.0)\n",
    "        \n",
    "        # Constraint on active holdings\n",
    "        M.constraint('bound-h', xa, Domain.inRange(lh, uh))\n",
    "        \n",
    "        # Constraint on portfolio active beta \n",
    "        port_act_beta = x.T @ B - 1\n",
    "        M.constraint('bound-b', port_act_beta, Domain.inRange(lb, ub))\n",
    "        \n",
    "        # Conic constraint for the portfolio variance\n",
    "        M.constraint('risk', Expr.vstack(s, 1, G.T @ xa), Domain.inRotatedQCone())\n",
    "        \n",
    "        # Objective (quadratic utility version)\n",
    "        delta = M.parameter()\n",
    "        M.objective('obj', ObjectiveSense.Maximize, x.T @ a - delta * s)\n",
    "    \n",
    "        # Create DataFrame to store the results. Last security name (the SPY ETF) is removed.\n",
    "        columns = [\"delta\", \"obj\", \"return\", \"risk\"] + df_prices.columns[:-1].tolist()\n",
    "        df_result = pd.DataFrame(columns=columns)\n",
    "        for d in deltas:\n",
    "            # Update parameter\n",
    "            delta.setValue(d);\n",
    "            \n",
    "            # Solve optimization\n",
    "            M.solve()\n",
    "            \n",
    "            # Check if the solution is an optimal point\n",
    "            solsta = M.getPrimalSolutionStatus()\n",
    "            if (solsta != SolutionStatus.Optimal):\n",
    "                # See https://docs.mosek.com/latest/pythonfusion/accessing-solution.html about handling solution statuses.\n",
    "                raise Exception(\"Unexpected solution status!\") \n",
    "            \n",
    "            # Save results\n",
    "            portfolio_return = a @ x.level()\n",
    "            portfolio_risk = np.sqrt(2 * s.level()[0])\n",
    "            row = pd.Series([d, M.primalObjValue(), portfolio_return, portfolio_risk] + list(x.level()), index=columns)\n",
    "            df_result = pd.concat([df_result, row.to_frame().T], ignore_index=True)\n",
    "\n",
    "        return df_result"
   ]
  },
  {
   "cell_type": "markdown",
   "metadata": {},
   "source": [
    "## Define the factor model"
   ]
  },
  {
   "cell_type": "markdown",
   "metadata": {},
   "source": [
    "Here we define a function that computes the factor model\n",
    "$$\n",
    "R_t = \\alpha + \\beta R_{F,t} + \\varepsilon_t.\n",
    "$$\n",
    "It can handle any number of factors, and returns estimates $\\EBeta$, $\\ECov_F$, and $\\ECov_\\theta$. The factors are assumed to be at the last coordinates of the data. \n",
    "\n",
    "The input of the function is the expected return and covariance of yearly logarithmic returns. The reason is that it is easier to generate logarithmic return scenarios from normal distribution instead of generating linear return scenarios from lognormal distribution.  "
   ]
  },
  {
   "cell_type": "code",
   "execution_count": null,
   "metadata": {},
   "outputs": [],
   "source": [
    "def factor_model(m_log, S_log, factor_num):\n",
    "    \"\"\"\n",
    "    It is assumed that the last factor_num coordinates correspond to the factors.\n",
    "    \"\"\"\n",
    "    if factor_num < 1: \n",
    "        raise Exception(\"Does not make sense to compute a factor model without factors!\")\n",
    "    \n",
    "    # Generate logarithmic return scenarios\n",
    "    scenarios_log = np.random.default_rng().multivariate_normal(m_log, S_log, 100000)\n",
    "    \n",
    "    # Convert logarithmic return scenarios to linear return scenarios \n",
    "    scenarios_lin = np.exp(scenarios_log) - 1\n",
    "    \n",
    "    # Do linear regression \n",
    "    params = []\n",
    "    resid = []\n",
    "    X = scenarios_lin[:, -factor_num:]\n",
    "    X = sm.add_constant(X, prepend=False)\n",
    "    \n",
    "    for k in range(N):\n",
    "        y = scenarios_lin[:, k]\n",
    "        model = sm.OLS(y, X, hasconst=True).fit()\n",
    "        resid.append(model.resid)\n",
    "        params.append(model.params)\n",
    "    resid = np.array(resid)\n",
    "    params = np.array(params)\n",
    "    \n",
    "    # Get parameter estimates\n",
    "    a = params[:, 1]\n",
    "    B = params[:, 0:factor_num]\n",
    "    S_F = np.atleast_2d(np.cov(X[:, 0:factor_num].T))\n",
    "    S_theta = np.cov(resid)\n",
    "    S_theta = np.diag(np.diag(S_theta))\n",
    "    \n",
    "    return a, B, S_F, S_theta "
   ]
  },
  {
   "cell_type": "markdown",
   "metadata": {},
   "source": [
    "## Compute optimization input variables"
   ]
  },
  {
   "cell_type": "markdown",
   "metadata": {},
   "source": [
    "Here we use the loaded daily price data to compute the corresponding yearly mean return and covariance matrix."
   ]
  },
  {
   "cell_type": "code",
   "execution_count": null,
   "metadata": {
    "scrolled": true
   },
   "outputs": [],
   "source": [
    "# Number of factors\n",
    "fnum = 1\n",
    "\n",
    "# Number of securities (We subtract fnum to account for factors at the end of the price data)\n",
    "N = df_prices.shape[1] - fnum\n",
    "\n",
    "# Get optimization parameters\n",
    "m, S = compute_inputs(df_prices, security_num=N)"
   ]
  },
  {
   "cell_type": "markdown",
   "metadata": {},
   "source": [
    "Next we compute the matrix $G$ such that $\\ECov=GG^\\mathsf{T}$, this is the input of the conic form of the optimization problem. Here we use Cholesky factorization."
   ]
  },
  {
   "cell_type": "code",
   "execution_count": null,
   "metadata": {},
   "outputs": [],
   "source": [
    "G = np.linalg.cholesky(S)  "
   ]
  },
  {
   "cell_type": "markdown",
   "metadata": {},
   "source": [
    "Now we compute the estimates $\\EAlpha$ and $\\EBeta$ using the factor model. First we compute logarithmic return statistics and use them to compute the factor exposures and covariances. "
   ]
  },
  {
   "cell_type": "code",
   "execution_count": null,
   "metadata": {},
   "outputs": [],
   "source": [
    "m_log, S_log = compute_inputs(df_prices, return_log=True)\n",
    "a, B, _, _ = factor_model(m_log, S_log, fnum)"
   ]
  },
  {
   "cell_type": "markdown",
   "metadata": {},
   "source": [
    "## Call the optimizer function"
   ]
  },
  {
   "cell_type": "markdown",
   "metadata": {},
   "source": [
    "We run the optimization for a range of risk aversion parameter values: $\\delta = 10^{-0.5},\\dots,10^{2}$."
   ]
  },
  {
   "cell_type": "code",
   "execution_count": null,
   "metadata": {
    "scrolled": false
   },
   "outputs": [],
   "source": [
    "# Parameters\n",
    "xbm = np.ones(N) / N\n",
    "uh = np.ones(N) * 0.5\n",
    "lh = -np.ones(N) * 0.5\n",
    "ub = 0.5\n",
    "lb = -0.5\n",
    "\n",
    "deltas = np.logspace(start=-0.5, stop=2, num=20)[::-1]\n",
    "\n",
    "df_result = EfficientFrontier(N, a, B, G, xbm, deltas, uh, ub, lh, lb)\n",
    "mask = df_result < 0\n",
    "mask.iloc[:, :2] = False\n",
    "df_result[mask] = 0"
   ]
  },
  {
   "cell_type": "markdown",
   "metadata": {},
   "source": [
    "## Visualize the results"
   ]
  },
  {
   "cell_type": "markdown",
   "metadata": {},
   "source": [
    "Plot the efficient frontier."
   ]
  },
  {
   "cell_type": "code",
   "execution_count": null,
   "metadata": {
    "scrolled": true
   },
   "outputs": [],
   "source": [
    "# Efficient frontier\n",
    "ax = df_result.plot(x=\"risk\", y=\"return\", style=\"-o\", xlabel=\"portfolio tracking error\", ylabel=\"portfolio alpha\", grid=True)"
   ]
  },
  {
   "cell_type": "markdown",
   "metadata": {},
   "source": [
    "Plot the portfolio composition."
   ]
  },
  {
   "cell_type": "code",
   "execution_count": null,
   "metadata": {
    "scrolled": false
   },
   "outputs": [],
   "source": [
    "my_cmap = LinearSegmentedColormap.from_list(\"non-extreme gray\", [\"#111111\", \"#eeeeee\"], N=256, gamma=1.0)\n",
    "ax1 = df_result.set_index('risk').iloc[:, 3:].plot.area(logx=False, colormap=my_cmap, \n",
    "                                                        xlabel='portfolio risk (std. dev.)', ylabel=\"x\")\n",
    "ax1.grid(which='both', axis='x', linestyle=':', color='k', linewidth=1)"
   ]
  }
 ],
 "metadata": {
  "kernelspec": {
   "display_name": "Python 3 (ipykernel)",
   "language": "python",
   "name": "python3"
  },
  "language_info": {
   "codemirror_mode": {
    "name": "ipython",
    "version": 3
   },
   "file_extension": ".py",
   "mimetype": "text/x-python",
   "name": "python",
   "nbconvert_exporter": "python",
   "pygments_lexer": "ipython3",
   "version": "3.9.7"
  }
 },
 "nbformat": 4,
 "nbformat_minor": 2
}
