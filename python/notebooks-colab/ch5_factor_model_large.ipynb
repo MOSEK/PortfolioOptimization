{
 "cells": [
  {
   "cell_type": "markdown",
   "metadata": {},
   "source": [
    "LaTeX macros (hidden cell)\n",
    "$\n",
    "\\newcommand{\\Q}{\\mathcal{Q}}\n",
    "\\newcommand{\\ECov}{\\boldsymbol{\\Sigma}}\n",
    "\\newcommand{\\EMean}{\\boldsymbol{\\mu}}\n",
    "\\newcommand{\\EAlpha}{\\boldsymbol{\\alpha}}\n",
    "\\newcommand{\\EBeta}{\\boldsymbol{\\beta}}\n",
    "$"
   ]
  },
  {
   "cell_type": "markdown",
   "metadata": {},
   "source": [
    "# Imports and configuration"
   ]
  },
  {
   "cell_type": "code",
   "execution_count": null,
   "metadata": {},
   "outputs": [],
   "source": [
    "!pip install mosek \n",
    "!pip install matplotlib --upgrade\n",
    "!export PYTHONPATH=\"$PYTHONPATH:/content\"\n",
    "\n",
    "# To execute the notebook directly in colab make sure your MOSEK license file is in one the locations\n",
    "#\n",
    "# /content/mosek.lic   or   /root/mosek/mosek.lic\n",
    "#\n",
    "# inside this notebook's internal filesystem. "
   ]
  },
  {
   "cell_type": "code",
   "execution_count": null,
   "metadata": {
    "scrolled": false
   },
   "outputs": [],
   "source": [
    "import sys\n",
    "import os\n",
    "import re\n",
    "import glob\n",
    "import datetime as dt\n",
    "\n",
    "import numpy as np\n",
    "import pandas as pd\n",
    "%matplotlib inline\n",
    "import matplotlib\n",
    "import matplotlib.pyplot as plt\n",
    "from matplotlib.colors import LinearSegmentedColormap\n",
    "\n",
    "from mosek.fusion import *\n",
    "\n",
    "from notebook.services.config import ConfigManager"
   ]
  },
  {
   "cell_type": "code",
   "execution_count": null,
   "metadata": {},
   "outputs": [],
   "source": [
    "# Colab additional settings\n",
    "os.environ['MOSEKLM_LICENSE_FILE']=\"/content:/root/mosek\""
   ]
  },
  {
   "cell_type": "code",
   "execution_count": null,
   "metadata": {},
   "outputs": [],
   "source": [
    "# Version checks\n",
    "print(sys.version)\n",
    "print('matplotlib: {}'.format(matplotlib.__version__))\n",
    "\n",
    "# Jupyter configuration\n",
    "c = ConfigManager()\n",
    "c.update('notebook', {\"CodeCell\": {\"cm_config\": {\"autoCloseBrackets\": False}}})  \n",
    "\n",
    "# Numpy options\n",
    "np.set_printoptions(precision=5, linewidth=120, suppress=True)\n",
    "\n",
    "# Pandas options\n",
    "pd.set_option('display.max_rows', None)\n",
    "\n",
    "# Matplotlib options\n",
    "plt.rcParams['figure.figsize'] = [12, 8]\n",
    "plt.rcParams['figure.dpi'] = 200"
   ]
  },
  {
   "cell_type": "markdown",
   "metadata": {},
   "source": [
    "# Define the optimization model"
   ]
  },
  {
   "cell_type": "markdown",
   "metadata": {},
   "source": [
    "We create a function to randomize factor models, i. e., large random covariance matrices with only a few significant eigenvalues."
   ]
  },
  {
   "cell_type": "code",
   "execution_count": null,
   "metadata": {},
   "outputs": [],
   "source": [
    "def random_factor_model(N, K, T):\n",
    "    # Generate K uncorrelated, zero mean factors, with weighted variance\n",
    "    S_F = np.diag(range(1, K + 1))\n",
    "    Z_F = np.random.default_rng(seed=1).multivariate_normal(np.zeros(K), S_F, T).T\n",
    "\n",
    "    # Generate random factor model parameters\n",
    "    B = np.random.default_rng(seed=2).normal(size=(N, K))\n",
    "    a = np.random.default_rng(seed=3).normal(loc=1, size=(N, 1))\n",
    "    e = np.random.default_rng(seed=4).multivariate_normal(np.zeros(N), np.eye(N), T).T\n",
    "\n",
    "    # Generate N time-series from the factors\n",
    "    Z = a + B @ Z_F + e\n",
    "    \n",
    "    # Residual covariance\n",
    "    S_theta = np.cov(e)\n",
    "    diag_S_theta = np.diag(S_theta)\n",
    "\n",
    "    # Optimization parameters\n",
    "    m = np.mean(Z, axis=1)\n",
    "    S = np.cov(Z)\n",
    "    #print(np.linalg.eigvalsh(np.corrcoef(Z))[-20:])\n",
    "    \n",
    "    return m, S, B, S_F, diag_S_theta"
   ]
  },
  {
   "cell_type": "markdown",
   "metadata": {},
   "source": [
    "Here we define the optimization model in MOSEK Fusion."
   ]
  },
  {
   "cell_type": "code",
   "execution_count": null,
   "metadata": {},
   "outputs": [],
   "source": [
    "# Solve optimization\n",
    "def Markowitz(N, m, G, gamma2):\n",
    "    with Model(\"markowitz\") as M:\n",
    "        # Settings\n",
    "        #M.setLogHandler(sys.stdout) \n",
    "\n",
    "        # Decision variable (fraction of holdings in each security)\n",
    "        # The variable x is restricted to be positive, which imposes the constraint of no short-selling.   \n",
    "        x = M.variable(\"x\", N, Domain.greaterThan(0.0))\n",
    "\n",
    "        # Budget constraint\n",
    "        M.constraint('budget', Expr.sum(x), Domain.equalsTo(1))\n",
    "\n",
    "        # Objective \n",
    "        M.objective('obj', ObjectiveSense.Maximize, Expr.dot(m, x))\n",
    "\n",
    "        # Imposes a bound on the risk\n",
    "        if isinstance(G, tuple):\n",
    "            G_factor = G[0]\n",
    "            g_specific = G[1]\n",
    "            \n",
    "            factor_risk = Expr.mul(G_factor.T, x) \n",
    "            specific_risk = Expr.mulElm(g_specific, x)\n",
    "            total_risk = Expr.vstack(factor_risk, specific_risk)\n",
    "            \n",
    "            M.constraint('risk', Expr.vstack(np.sqrt(gamma2), total_risk), Domain.inQCone())\n",
    "        else:\n",
    "            M.constraint('risk', Expr.vstack(np.sqrt(gamma2), Expr.mul(G.T, x)), Domain.inQCone())\n",
    "\n",
    "        # Solve optimization\n",
    "        M.solve()\n",
    "        \n",
    "        returns = M.primalObjValue()\n",
    "        portfolio = x.level()\n",
    "        time = M.getSolverDoubleInfo(\"optimizerTime\")\n",
    "        \n",
    "        return returns, time"
   ]
  },
  {
   "cell_type": "markdown",
   "metadata": {},
   "source": [
    "# Run the optimization"
   ]
  },
  {
   "cell_type": "markdown",
   "metadata": {},
   "source": [
    "## Define the parameters"
   ]
  },
  {
   "cell_type": "markdown",
   "metadata": {},
   "source": [
    "The parameters are the number of factors $K$ and the risk limit $\\gamma^2$."
   ]
  },
  {
   "cell_type": "code",
   "execution_count": null,
   "metadata": {},
   "outputs": [],
   "source": [
    "# Risk limit\n",
    "gamma2 = 0.1\n",
    "\n",
    "# Number of factors\n",
    "K = 10"
   ]
  },
  {
   "cell_type": "markdown",
   "metadata": {},
   "source": [
    "## Solve the optimization problem"
   ]
  },
  {
   "cell_type": "markdown",
   "metadata": {},
   "source": [
    "Next we generate random factor structured covariance matrices of different sizes, and solve the portfolio optimization both when we utilize the factor structure and when we do Cholesky factorization on it instead."
   ]
  },
  {
   "cell_type": "code",
   "execution_count": null,
   "metadata": {},
   "outputs": [],
   "source": [
    "# Generate runtime data \n",
    "# NOTE: This can have a long runtime, depending on the range given for n below!\n",
    "list_runtimes_orig = []\n",
    "list_runtimes_factor = []\n",
    "for n in range(5, 13):\n",
    "    N = 2**n\n",
    "    T = N + 2**(n-1)\n",
    "    m, S, B, S_F, diag_S_theta = random_factor_model(N, K, T)\n",
    "\n",
    "    F = np.linalg.cholesky(S_F)\n",
    "    G_factor = B @ F\n",
    "    g_specific = np.sqrt(diag_S_theta)\n",
    "    \n",
    "    G_orig = np.linalg.cholesky(S)\n",
    "        \n",
    "    optimum_orig, runtime_orig = Markowitz(N, m, G_orig, gamma2)\n",
    "    optimum_factor, runtime_factor = Markowitz(N, m, (G_factor, g_specific), gamma2)\n",
    "    list_runtimes_orig.append((N, runtime_orig))\n",
    "    list_runtimes_factor.append((N, runtime_factor))\n",
    "    \n",
    "tup_N_orig, tup_time_orig = list(zip(*list_runtimes_orig))\n",
    "tup_N_factor, tup_time_factor = list(zip(*list_runtimes_factor))"
   ]
  },
  {
   "cell_type": "markdown",
   "metadata": {},
   "source": [
    "# Plot results"
   ]
  },
  {
   "cell_type": "code",
   "execution_count": null,
   "metadata": {
    "scrolled": false
   },
   "outputs": [],
   "source": [
    "# Runtime plot\n",
    "plt.plot(tup_N_orig, tup_time_orig, \"-o\")\n",
    "plt.plot(tup_N_factor, tup_time_factor, \"-o\")\n",
    "plt.xlabel(\"N\")\n",
    "plt.ylabel(\"runtime (s)\")\n",
    "ax = plt.gca()\n",
    "ax.set_xscale('log', base=2)\n",
    "ax.set_yscale('log')\n",
    "ax.grid()\n",
    "legend = [\"Cholesky\", \"factor model\"]\n",
    "plt.legend(legend)"
   ]
  }
 ],
 "metadata": {
  "kernelspec": {
   "display_name": "Python 3",
   "language": "python",
   "name": "python3"
  },
  "language_info": {
   "codemirror_mode": {
    "name": "ipython",
    "version": 3
   },
   "file_extension": ".py",
   "mimetype": "text/x-python",
   "name": "python",
   "nbconvert_exporter": "python",
   "pygments_lexer": "ipython3",
   "version": "3.6.9"
  }
 },
 "nbformat": 4,
 "nbformat_minor": 2
}
