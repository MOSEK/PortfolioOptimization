{
 "cells": [
  {
   "cell_type": "code",
   "execution_count": 21,
   "metadata": {
    "scrolled": false
   },
   "outputs": [
    {
     "name": "stdout",
     "output_type": "stream",
     "text": [
      "3.6.9 (default, Jan 26 2021, 15:33:00) \n",
      "[GCC 8.4.0]\n",
      "matplotlib: 3.3.4\n"
     ]
    },
    {
     "data": {
      "text/plain": [
       "{'CodeCell': {'cm_config': {'autoCloseBrackets': False}}}"
      ]
     },
     "execution_count": 21,
     "metadata": {},
     "output_type": "execute_result"
    }
   ],
   "source": [
    "!pip install mosek \n",
    "\n",
    "# To execute the notebook directly in colab make sure your MOSEK license file is in one the locations\n",
    "#\n",
    "# /content/mosek.lic   or   /root/mosek/mosek.lic\n",
    "#\n",
    "# inside this project's internal filesystem.\n",
    "\n",
    "import sys\n",
    "print(sys.version)\n",
    "import os\n",
    "os.environ['MOSEKLM_LICENSE_FILE']=\"/content:/root/mosek\"\n",
    "\n",
    "import numpy as np\n",
    "np.set_printoptions(precision=5, linewidth=120, suppress=True)\n",
    "%matplotlib inline\n",
    "import matplotlib\n",
    "import matplotlib.pyplot as plt\n",
    "print('matplotlib: {}'.format(matplotlib.__version__))\n",
    "from matplotlib.colors import LinearSegmentedColormap\n",
    "\n",
    "from mosek.fusion import *\n",
    "\n",
    "plt.rcParams['figure.figsize'] = [12, 8]\n",
    "plt.rcParams['figure.dpi'] = 200\n",
    "\n",
    "from notebook.services.config import ConfigManager\n",
    "c = ConfigManager()\n",
    "c.update('notebook', {\"CodeCell\": {\"cm_config\": {\"autoCloseBrackets\": False}}})"
   ]
  },
  {
   "cell_type": "code",
   "execution_count": 22,
   "metadata": {},
   "outputs": [],
   "source": [
    "# Generate a large random covariance matrix with few significant eigenvalues\n",
    "def random_factor_model(N, K, T):\n",
    "    # Generate K uncorrelated, zero mean factors, with weighted variance\n",
    "    S_F = np.diag(range(1, K + 1))\n",
    "    Z_F = np.random.default_rng(seed=1).multivariate_normal(np.zeros(K), S_F, T).T\n",
    "\n",
    "    # Generate random factor model parameters\n",
    "    B = np.random.default_rng(seed=2).normal(size=(N, K))\n",
    "    a = np.random.default_rng(seed=3).normal(loc=1, size=(N, 1))\n",
    "    e = np.random.default_rng(seed=4).multivariate_normal(np.zeros(N), np.eye(N), T).T\n",
    "\n",
    "    # Generate N time-series from the factors\n",
    "    Z = a + B @ Z_F + e\n",
    "    \n",
    "    # Residual covariance\n",
    "    S_theta = np.cov(e)\n",
    "    S_theta = np.diag(np.diag(S_theta))\n",
    "\n",
    "    # Optimization parameters\n",
    "    m = np.mean(Z, axis=1)\n",
    "    S = np.cov(Z)\n",
    "    #print(np.linalg.eigvalsh(np.corrcoef(Z))[-20:])\n",
    "    \n",
    "    return m, S, B, S_F, S_theta"
   ]
  },
  {
   "cell_type": "code",
   "execution_count": null,
   "metadata": {},
   "outputs": [],
   "source": [
    "# Solve optimization\n",
    "def Markowitz(N, m, G, gamma2):\n",
    "    with Model(\"markowitz\") as M:\n",
    "        # Settings\n",
    "        #M.setLogHandler(sys.stdout) \n",
    "\n",
    "        # Decision variable (fraction of holdings in each security)\n",
    "        # The variable x is restricted to be positive, which imposes the constraint of no short-selling.   \n",
    "        x = M.variable(\"x\", N, Domain.greaterThan(0.0))\n",
    "\n",
    "        # Budget constraint\n",
    "        M.constraint('budget', Expr.sum(x), Domain.equalsTo(1))\n",
    "\n",
    "        # Objective \n",
    "        M.objective('obj', ObjectiveSense.Maximize, Expr.dot(m, x))\n",
    "\n",
    "        # Imposes a bound on the risk\n",
    "        M.constraint('risk', Expr.vstack(np.sqrt(gamma2), Expr.mul(G.T, x)), Domain.inQCone())\n",
    "\n",
    "        # Solve optimization\n",
    "        M.solve()\n",
    "        \n",
    "        returns = M.primalObjValue()\n",
    "        portfolio = x.level()\n",
    "        time = M.getSolverDoubleInfo(\"optimizerTime\")\n",
    "        \n",
    "        return returns, time"
   ]
  },
  {
   "cell_type": "code",
   "execution_count": null,
   "metadata": {},
   "outputs": [],
   "source": [
    "# Risk limit\n",
    "gamma2 = 0.1\n",
    "\n",
    "# Number of factors\n",
    "K = 10\n",
    "\n",
    "# Generate runtime data \n",
    "# NOTE: This can have a long runtime, depending on the range given for n below!\n",
    "list_runtimes_orig = []\n",
    "list_runtimes_factor = []\n",
    "for n in range(5, 15):\n",
    "    N = 2**n\n",
    "    T = N + 2**(n-1)\n",
    "    m, S, B, S_F, S_theta = random_factor_model(N, K, T)\n",
    "\n",
    "    F = np.linalg.cholesky(S_F)\n",
    "    G_factor = np.block([[B @ F, np.sqrt(S_theta)]])\n",
    "    G_orig = np.linalg.cholesky(S)\n",
    "        \n",
    "    optimum_orig, runtime_orig = Markowitz(N, m, G_orig, gamma2)\n",
    "    optimum_factor, runtime_factor = Markowitz(N, m, G_factor, gamma2)\n",
    "    list_runtimes_orig.append((N, runtime_orig))\n",
    "    list_runtimes_factor.append((N, runtime_factor))\n",
    "    \n",
    "tup_N_orig, tup_time_orig = list(zip(*list_runtimes_orig))\n",
    "tup_N_factor, tup_time_factor = list(zip(*list_runtimes_factor))"
   ]
  },
  {
   "cell_type": "code",
   "execution_count": null,
   "metadata": {
    "scrolled": false
   },
   "outputs": [],
   "source": [
    "# Runtime plot\n",
    "plt.plot(tup_N_orig, tup_time_orig, \"-o\")\n",
    "plt.plot(tup_N_factor, tup_time_factor, \"-o\")\n",
    "plt.xlabel(\"N\")\n",
    "plt.ylabel(\"runtime (s)\")\n",
    "ax = plt.gca()\n",
    "ax.set_xscale('log', base=2)\n",
    "ax.set_yscale('log')\n",
    "ax.grid()\n",
    "legend = [\"Cholesky\", \"factor model\"]\n",
    "plt.legend(legend)"
   ]
  }
 ],
 "metadata": {
  "kernelspec": {
   "display_name": "Python 3",
   "language": "python",
   "name": "python3"
  },
  "language_info": {
   "codemirror_mode": {
    "name": "ipython",
    "version": 3
   },
   "file_extension": ".py",
   "mimetype": "text/x-python",
   "name": "python",
   "nbconvert_exporter": "python",
   "pygments_lexer": "ipython3",
   "version": "3.6.6"
  }
 },
 "nbformat": 4,
 "nbformat_minor": 2
}
